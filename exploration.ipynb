{
 "cells": [
  {
   "cell_type": "code",
   "execution_count": 1,
   "id": "7b57a458",
   "metadata": {},
   "outputs": [],
   "source": [
    "#%pip install matplotlib"
   ]
  },
  {
   "cell_type": "code",
   "execution_count": 1,
   "id": "15a77875",
   "metadata": {},
   "outputs": [],
   "source": [
    "import os\n",
    "import json\n",
    "\n",
    "import torch\n",
    "\n",
    "from core.schemas import Config\n",
    "\n",
    "from scripts.generate import *\n",
    "\n",
    "import numpy as np\n",
    "import matplotlib.pyplot as plt\n",
    "from PIL import Image\n",
    "from tqdm.notebook import tqdm\n",
    "\n",
    "%matplotlib notebook\n",
    "reload_model = True"
   ]
  },
  {
   "cell_type": "code",
   "execution_count": 2,
   "id": "b934e11e",
   "metadata": {},
   "outputs": [
    {
     "name": "stdout",
     "output_type": "stream",
     "text": [
      "1.9.0\n"
     ]
    }
   ],
   "source": [
    "print(torch.__version__)"
   ]
  },
  {
   "cell_type": "code",
   "execution_count": null,
   "id": "b372e004",
   "metadata": {},
   "outputs": [],
   "source": [
    "#sd = torch.load('./models/vqgan_imagenet_f16_16384.ckpt', map_location=\"cpu\")[\"state_dict\"]"
   ]
  },
  {
   "cell_type": "code",
   "execution_count": 2,
   "id": "3f965060",
   "metadata": {},
   "outputs": [],
   "source": [
    "CONFIG_FILE = './configs/local.json'\n",
    "DEVICE ='cpu' # torch.device(os.environ.get(\"DEVICE\", 'cuda' if torch.cuda.is_available() else 'cpu')) #"
   ]
  },
  {
   "cell_type": "code",
   "execution_count": 3,
   "id": "f7e32252",
   "metadata": {},
   "outputs": [
    {
     "name": "stdout",
     "output_type": "stream",
     "text": [
      "Loading default configuration from './configs/local.json'\n",
      "Saving outputs in './outputs'\n",
      "Running on cpu.\n",
      "Config:\n",
      "  - prompts: ['a painting of Claude Monet']\n",
      "  - image_prompts: []\n",
      "  - max_iterations: 250\n",
      "  - save_freq: 50\n",
      "  - size: [256, 256]\n",
      "  - pixelart: None\n",
      "  - init_image: ./samples/VanGogh.jpg\n",
      "  - init_noise: gradient\n",
      "  - init_weight: 0.0\n",
      "  - mse_decay_rate: 0\n",
      "  - output_dir: ./outputs\n",
      "  - models_dir: ./models\n",
      "  - clip_model: ViT-B/16\n",
      "  - vqgan_checkpoint: ./models/vqgan_imagenet_f16_16384.ckpt\n",
      "  - vqgan_config: ./configs/models/vqgan_imagenet_f16_16384.json\n",
      "  - noise_prompt_seeds: []\n",
      "  - noise_prompt_weights: []\n",
      "  - step_size: 0.1\n",
      "  - cutn: 32\n",
      "  - cut_pow: 1.0\n",
      "  - seed: -1\n",
      "  - optimizer: Adam\n",
      "  - nwarm_restarts: -1\n",
      "  - augments: ['Af', 'Pe', 'Ji', 'Er']\n",
      "\n"
     ]
    }
   ],
   "source": [
    "print(f\"Loading default configuration from '{CONFIG_FILE}'\")\n",
    "with open(CONFIG_FILE, 'r') as f:\n",
    "    PARAMS = Config(**json.load(f))\n",
    "PARAMS.prompts = ['a painting of Claude Monet']\n",
    "PARAMS.init_noise = 'gradient'\n",
    "PARAMS.init_image = './samples/VanGogh.jpg'\n",
    "print(f\"Running on {DEVICE}.\")\n",
    "print(PARAMS)\n",
    "\n"
   ]
  },
  {
   "cell_type": "code",
   "execution_count": null,
   "id": "a624082d",
   "metadata": {},
   "outputs": [
    {
     "name": "stdout",
     "output_type": "stream",
     "text": [
      "Global seed set to 1877570453.\n",
      "Working with z of shape (1, 256, 16, 16) = 65536 dimensions.\n",
      "Loaded pretrained VGG16 model from './models/vgg16-397923af.pth'\n",
      "Loaded pretrained LPIPS loss from './models/vgg.pth'\n",
      "VQLPIPSWithDiscriminator running with hinge loss.\n",
      "1\n",
      "./models/vqgan_imagenet_f16_16384.ckpt\n"
     ]
    }
   ],
   "source": [
    "\n",
    "#global_seed(PARAMS.seed)\n",
    "#model = load_vqgan_model(PARAMS.vqgan_config, PARAMS.vqgan_checkpoint, PARAMS.models_dir).to(DEVICE)\n",
    "\n",
    "\n"
   ]
  },
  {
   "cell_type": "code",
   "execution_count": null,
   "id": "8eb6ec80",
   "metadata": {},
   "outputs": [],
   "source": [
    "if reload_model:\n",
    "    model = load_vqgan_model(PARAMS.vqgan_config, PARAMS.vqgan_checkpoint, PARAMS.models_dir).to(DEVICE)\n",
    "    perceptor = clip.load(PARAMS.clip_model, device=DEVICE, root=PARAMS.models_dir)[0].eval().requires_grad_(False).to(DEVICE)\n",
    "    cut_size = perceptor.visual.input_resolution\n",
    "    make_cutouts = MakeCutouts(PARAMS.augments, cut_size, PARAMS.cutn, cut_pow=PARAMS.cut_pow)\n",
    "\n",
    "    z_min = model.quantize.embedding.weight.min(dim=0).values[None, :, None, None]\n",
    "    z_max = model.quantize.embedding.weight.max(dim=0).values[None, :, None, None]\n",
    "    reload_model = False\n"
   ]
  },
  {
   "cell_type": "code",
   "execution_count": null,
   "id": "1f658bd3",
   "metadata": {},
   "outputs": [],
   "source": [
    "z = initialize_image(model, PARAMS)\n",
    "z_orig = torch.zeros_like(z)\n",
    "z.requires_grad_(True)\n",
    "\n",
    "prompts = tokenize(model, perceptor, make_cutouts, PARAMS)\n",
    "optimizer = get_optimizer(z, PARAMS.optimizer, PARAMS.step_size)\n",
    "scheduler = get_scheduler(optimizer, PARAMS.max_iterations, PARAMS.nwarm_restarts)\n",
    "\n",
    "kwargs = {\n",
    "    'model': model,\n",
    "    'perceptor': perceptor,\n",
    "    'optimizer': optimizer,\n",
    "    'scheduler': scheduler,\n",
    "    'prompts': prompts,\n",
    "    'make_cutouts': make_cutouts,\n",
    "    'z_orig': z_orig,\n",
    "    'z_min': z_min,\n",
    "    'z_max': z_max,\n",
    "    'mse_weight': PARAMS.init_weight,\n",
    "}\n",
    "\n"
   ]
  },
  {
   "cell_type": "code",
   "execution_count": null,
   "id": "b5634f1b",
   "metadata": {
    "scrolled": false
   },
   "outputs": [],
   "source": [
    "fig,ax = plt.subplots(1,1)\n",
    "\n",
    "for step in tqdm(range(PARAMS.max_iterations)):\n",
    "    kwargs['step'] = step + 1\n",
    "    pil_image = train(z, PARAMS, **kwargs)\n",
    "    if step % 5 == 0:\n",
    "        ax.imshow(np.asarray(pil_image))\n",
    "        plt.axis('off')\n",
    "        fig.canvas.draw()\n"
   ]
  },
  {
   "cell_type": "code",
   "execution_count": null,
   "id": "7f704969",
   "metadata": {},
   "outputs": [],
   "source": []
  },
  {
   "cell_type": "code",
   "execution_count": null,
   "id": "683c4e2e",
   "metadata": {},
   "outputs": [],
   "source": []
  },
  {
   "cell_type": "code",
   "execution_count": null,
   "id": "bef20cc6",
   "metadata": {},
   "outputs": [],
   "source": []
  }
 ],
 "metadata": {
  "kernelspec": {
   "display_name": "Python 3 (ipykernel)",
   "language": "python",
   "name": "python3"
  },
  "language_info": {
   "codemirror_mode": {
    "name": "ipython",
    "version": 3
   },
   "file_extension": ".py",
   "mimetype": "text/x-python",
   "name": "python",
   "nbconvert_exporter": "python",
   "pygments_lexer": "ipython3",
   "version": "3.7.10"
  }
 },
 "nbformat": 4,
 "nbformat_minor": 5
}
